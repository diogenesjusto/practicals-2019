{
  "nbformat": 4,
  "nbformat_minor": 0,
  "metadata": {
    "colab": {
      "name": "Mathematics for Machine Learning Examples",
      "provenance": [],
      "collapsed_sections": [],
      "include_colab_link": true
    },
    "kernelspec": {
      "name": "python2",
      "display_name": "Python 2"
    }
  },
  "cells": [
    {
      "cell_type": "markdown",
      "metadata": {
        "id": "view-in-github",
        "colab_type": "text"
      },
      "source": [
        "<a href=\"https://colab.research.google.com/github/diogenesjusto/practicals-2019/blob/master/background/ml_examples.ipynb\" target=\"_parent\"><img src=\"https://colab.research.google.com/assets/colab-badge.svg\" alt=\"Open In Colab\"/></a>"
      ]
    },
    {
      "cell_type": "code",
      "metadata": {
        "id": "ST8QJlxSdvMU",
        "colab_type": "code",
        "outputId": "f0aed3d1-3fa0-4c76-ffcb-0d95d31fcb8f",
        "colab": {
          "base_uri": "https://localhost:8080/",
          "height": 233
        }
      },
      "source": [
        "#@title Imports { display-mode: \"form\" }\n",
        "from __future__ import print_function\n",
        "from __future__ import division\n",
        "from __future__ import absolute_import\n",
        "\n",
        "import numpy as np\n",
        "import tensorflow as tf\n",
        "import matplotlib.pyplot as plt\n",
        "\n",
        "try:\n",
        "  tf.enable_eager_execution()\n",
        "  print('Eager execution enabled')\n",
        "except ValueError:\n",
        "  print('Already running in Eager mode')\n",
        "\n",
        "tfe = tf.contrib.eager\n",
        "  "
      ],
      "execution_count": 1,
      "outputs": [
        {
          "output_type": "display_data",
          "data": {
            "text/plain": [
              "<IPython.core.display.HTML object>"
            ],
            "text/html": [
              "<p style=\"color: red;\">\n",
              "The default version of TensorFlow in Colab will soon switch to TensorFlow 2.x.<br>\n",
              "We recommend you <a href=\"https://www.tensorflow.org/guide/migrate\" target=\"_blank\">upgrade</a> now \n",
              "or ensure your notebook will continue to use TensorFlow 1.x via the <code>%tensorflow_version 1.x</code> magic:\n",
              "<a href=\"https://colab.research.google.com/notebooks/tensorflow_version.ipynb\" target=\"_blank\">more info</a>.</p>\n"
            ]
          },
          "metadata": {
            "tags": []
          }
        },
        {
          "output_type": "stream",
          "text": [
            "WARNING: Logging before flag parsing goes to stderr.\n",
            "W1027 16:28:31.700123 139624687847296 lazy_loader.py:50] \n",
            "The TensorFlow contrib module will not be included in TensorFlow 2.0.\n",
            "For more information, please see:\n",
            "  * https://github.com/tensorflow/community/blob/master/rfcs/20180907-contrib-sunset.md\n",
            "  * https://github.com/tensorflow/addons\n",
            "  * https://github.com/tensorflow/io (for I/O related ops)\n",
            "If you depend on functionality not listed there, please file an issue.\n",
            "\n"
          ],
          "name": "stderr"
        },
        {
          "output_type": "stream",
          "text": [
            "Eager execution enabled\n"
          ],
          "name": "stdout"
        }
      ]
    },
    {
      "cell_type": "markdown",
      "metadata": {
        "id": "RgFS1eZOdws_",
        "colab_type": "text"
      },
      "source": [
        "## Matrix Multiplication"
      ]
    },
    {
      "cell_type": "code",
      "metadata": {
        "id": "E0TdsagndySr",
        "colab_type": "code",
        "outputId": "3ac5f29e-6bba-46c5-bde6-8a84c0d8347a",
        "colab": {
          "base_uri": "https://localhost:8080/",
          "height": 85
        }
      },
      "source": [
        "# Define matrix A\n",
        "A = np.array(\n",
        "  [[1.0, 3.0],\n",
        "   [2.0, 1.0],\n",
        "   [4.0, 2.0]]\n",
        ")\n",
        "\n",
        "# Define matrix B\n",
        "B = np.array(\n",
        "  [[6.0, 2.0, 1.0],\n",
        "   [3.0, 4.0, 5.0]]\n",
        ")\n",
        "\n",
        "# Define vector x\n",
        "x = np.array([3.0, 2.0])\n",
        "\n",
        "print('A.shape is:', A.shape, 'B.shape is:', B.shape, 'x.shape is:', x.shape)\n",
        "A"
      ],
      "execution_count": 2,
      "outputs": [
        {
          "output_type": "stream",
          "text": [
            "A.shape is: (3, 2) B.shape is: (2, 3) x.shape is: (2,)\n"
          ],
          "name": "stdout"
        },
        {
          "output_type": "execute_result",
          "data": {
            "text/plain": [
              "array([[1., 3.],\n",
              "       [2., 1.],\n",
              "       [4., 2.]])"
            ]
          },
          "metadata": {
            "tags": []
          },
          "execution_count": 2
        }
      ]
    },
    {
      "cell_type": "markdown",
      "metadata": {
        "id": "4xVzrzTskHqK",
        "colab_type": "text"
      },
      "source": [
        "### Matrix-vector multiplication"
      ]
    },
    {
      "cell_type": "code",
      "metadata": {
        "id": "ySFMEkRrkJ51",
        "colab_type": "code",
        "outputId": "d9eb1f22-b1a8-4ce2-f654-533b829cd6c2",
        "colab": {
          "base_uri": "https://localhost:8080/",
          "height": 85
        }
      },
      "source": [
        "# Using numpy dot\n",
        "y = A.dot(x)\n",
        "\n",
        "print('Using dot:\\t y =', y, '\\t y.shape =', y.shape)\n",
        "\n",
        "# Using einsum\n",
        "y = np.einsum('ij, j', A, x)\n",
        "\n",
        "print('Using einsum:\\t y =', y, '\\t y.shape =', y.shape)\n",
        "\n",
        "# Manual version 1\n",
        "y = np.array([\n",
        "    A[0,0] * x[0] + A[0,1] * x[1],\n",
        "    A[1,0] * x[0] + A[1,1] * x[1],\n",
        "    A[2,0] * x[0] + A[2,1] * x[1],\n",
        "    ])\n",
        "print('Manual 1:\\t y =', y, '\\t y.shape =', y.shape)\n",
        "\n",
        "# Manual version 2: \n",
        "# Matrix-vector multiplication can be thought of as a linear combination of the columns of of the matrix\n",
        "y = x[0] * A[:,0]  +  x[1] * A[:, 1]\n",
        "\n",
        "print('Manual 2:\\t y =', y, '\\t y.shape =', y.shape)"
      ],
      "execution_count": 3,
      "outputs": [
        {
          "output_type": "stream",
          "text": [
            "Using dot:\t y = [ 9.  8. 16.] \t y.shape = (3,)\n",
            "Using einsum:\t y = [ 9.  8. 16.] \t y.shape = (3,)\n",
            "Manual 1:\t y = [ 9.  8. 16.] \t y.shape = (3,)\n",
            "Manual 2:\t y = [ 9.  8. 16.] \t y.shape = (3,)\n"
          ],
          "name": "stdout"
        }
      ]
    },
    {
      "cell_type": "markdown",
      "metadata": {
        "id": "IXfRCQfglg7Y",
        "colab_type": "text"
      },
      "source": [
        "### Matrix-matrix multiplication"
      ]
    },
    {
      "cell_type": "code",
      "metadata": {
        "id": "CCw3o6GMeD1o",
        "colab_type": "code",
        "outputId": "9cdc3ae9-bf7f-40bb-f4cd-8314a1e3d060",
        "colab": {
          "base_uri": "https://localhost:8080/",
          "height": 459
        }
      },
      "source": [
        "# Using numpy dot\n",
        "C = A.dot(B)\n",
        "\n",
        "print('Using DOT: C= \\n\\n', C, '\\n\\nC.shape =', C.shape)\n",
        "\n",
        "# Using einsum\n",
        "C = np.einsum('ik, kj', A, B)\n",
        "print('\\n\\nUsing einsum: C= \\n\\n', C, '\\n\\nC.shape =', C.shape)\n",
        "\n",
        "# Note, the above einsum notation is equivalent to the following\n",
        "C = np.einsum('ik, kj -> ij', A, B)\n",
        "\n",
        "# And in Tensorflow\n",
        "C = tf.matmul(A, B)\n",
        "print('\\n\\nUsing Tensorflow: C= \\n\\n', C, '\\n\\nC.shape =', C.shape)"
      ],
      "execution_count": 4,
      "outputs": [
        {
          "output_type": "stream",
          "text": [
            "Using DOT: C= \n",
            "\n",
            " [[15. 14. 16.]\n",
            " [15.  8.  7.]\n",
            " [30. 16. 14.]] \n",
            "\n",
            "C.shape = (3, 3)\n",
            "\n",
            "\n",
            "Using einsum: C= \n",
            "\n",
            " [[15. 14. 16.]\n",
            " [15.  8.  7.]\n",
            " [30. 16. 14.]] \n",
            "\n",
            "C.shape = (3, 3)\n",
            "\n",
            "\n",
            "Using Tensorflow: C= \n",
            "\n",
            " tf.Tensor(\n",
            "[[15. 14. 16.]\n",
            " [15.  8.  7.]\n",
            " [30. 16. 14.]], shape=(3, 3), dtype=float64) \n",
            "\n",
            "C.shape = (3, 3)\n"
          ],
          "name": "stdout"
        }
      ]
    },
    {
      "cell_type": "markdown",
      "metadata": {
        "id": "o3U0Fc7mlxSd",
        "colab_type": "text"
      },
      "source": [
        "Matrix multiplication is not commutative"
      ]
    },
    {
      "cell_type": "code",
      "metadata": {
        "id": "iiI6J7ZDj9Fl",
        "colab_type": "code",
        "outputId": "1c0e575f-1b2c-4da6-aab1-7f1e5ed60f19",
        "colab": {
          "base_uri": "https://localhost:8080/",
          "height": 102
        }
      },
      "source": [
        "# Matrix multiplication is not commutative:\n",
        "C = B.dot(A)\n",
        "print('C: \\n', C)\n",
        "print()\n",
        "print('C.shape:', C.shape)"
      ],
      "execution_count": 0,
      "outputs": [
        {
          "output_type": "stream",
          "text": [
            "C: \n",
            " [[14. 22.]\n",
            " [31. 23.]]\n",
            "\n",
            "C.shape: (2, 2)\n"
          ],
          "name": "stdout"
        }
      ]
    },
    {
      "cell_type": "markdown",
      "metadata": {
        "id": "WxJ0muOj34SB",
        "colab_type": "text"
      },
      "source": [
        "## Computing gradients with TensorFlow\n",
        "$y = Ax$\n",
        "\n",
        "In the code below, we use Tensorflow to calculate the following derivatives:\n",
        "\n",
        "$\\frac{dy}{dx}$ \n",
        "\n",
        "and \n",
        "\n",
        "$\\frac{\\partial y}{\\partial A}$ "
      ]
    },
    {
      "cell_type": "code",
      "metadata": {
        "id": "0V3spfcvEK-A",
        "colab_type": "code",
        "colab": {
          "base_uri": "https://localhost:8080/",
          "height": 85
        },
        "outputId": "1246be4f-bde9-4223-c449-f9441c692754"
      },
      "source": [
        "print(A)\n",
        "print(x)"
      ],
      "execution_count": 5,
      "outputs": [
        {
          "output_type": "stream",
          "text": [
            "[[1. 3.]\n",
            " [2. 1.]\n",
            " [4. 2.]]\n",
            "[3. 2.]\n"
          ],
          "name": "stdout"
        }
      ]
    },
    {
      "cell_type": "code",
      "metadata": {
        "id": "5wCGTn1s3zlV",
        "colab_type": "code",
        "outputId": "34c6bd09-f545-48a1-8777-e0a96eaed710",
        "colab": {
          "base_uri": "https://localhost:8080/",
          "height": 204
        }
      },
      "source": [
        "A_tensor = tfe.Variable(A)\n",
        "x_tensor = tfe.Variable(x)\n",
        "\n",
        "print(A_tensor)\n",
        "print(x_tensor)\n",
        "\n",
        "with tf.GradientTape() as tape:\n",
        "  y = tf.einsum('ij,j', A_tensor, x_tensor)\n",
        "\n",
        "dydx, dydA = tape.gradient(y, [x_tensor, A_tensor])\n",
        "\n",
        "print('dy/dx =', dydx)\n",
        "print()\n",
        "print('dy/dA =', dydA)"
      ],
      "execution_count": 6,
      "outputs": [
        {
          "output_type": "stream",
          "text": [
            "<tf.Variable 'Variable:0' shape=(3, 2) dtype=float64, numpy=\n",
            "array([[1., 3.],\n",
            "       [2., 1.],\n",
            "       [4., 2.]])>\n",
            "<tf.Variable 'Variable:0' shape=(2,) dtype=float64, numpy=array([3., 2.])>\n",
            "dy/dx = tf.Tensor([7. 6.], shape=(2,), dtype=float64)\n",
            "\n",
            "dy/dA = tf.Tensor(\n",
            "[[3. 2.]\n",
            " [3. 2.]\n",
            " [3. 2.]], shape=(3, 2), dtype=float64)\n"
          ],
          "name": "stdout"
        }
      ]
    },
    {
      "cell_type": "markdown",
      "metadata": {
        "id": "btAykJ_oEZ-i",
        "colab_type": "text"
      },
      "source": [
        "# Neural Network Gradient Example\n",
        "In the following example, we compute the output of a 1 layer neural network and the gradients with respect to its parameters. We define an example input vector and parameters, but keep the computation generic. You can change the values and shapes of x, A and b below and run the rest of the code to compute the output and gradients for your own example."
      ]
    },
    {
      "cell_type": "code",
      "metadata": {
        "id": "WRnif1ZP4kYQ",
        "colab_type": "code",
        "colab": {}
      },
      "source": [
        "x = np.array([[-1.], [0.1], [2.1]])  # X has shape (3, 1)\n",
        "A = np.array([              # A has shape (2, 3)\n",
        "    [ 1.1, -2.5,  0.3],\n",
        "    [-2.1,  0.2, -1.1]\n",
        "])  \n",
        "b = np.array([[-1.0], [2.0]])      # b has shape (2)"
      ],
      "execution_count": 0,
      "outputs": []
    },
    {
      "cell_type": "markdown",
      "metadata": {
        "id": "XaTm7-r9FBxl",
        "colab_type": "text"
      },
      "source": [
        "Compute the neural network output\n",
        "$\\mathbf{f} = \\operatorname{tanh}(A\\mathbf{x} + \\mathbf{b})$"
      ]
    },
    {
      "cell_type": "code",
      "metadata": {
        "id": "1HR6uCTjFAvV",
        "colab_type": "code",
        "outputId": "50c376c5-a2f3-4087-d79b-3eecdd329b11",
        "colab": {
          "base_uri": "https://localhost:8080/",
          "height": 51
        }
      },
      "source": [
        "M, N = A.shape\n",
        "z = A.dot(x) + b\n",
        "f = np.tanh(z)\n",
        "\n",
        "print('f =', f)"
      ],
      "execution_count": 8,
      "outputs": [
        {
          "output_type": "stream",
          "text": [
            "f = [[-0.93786303]\n",
            " [ 0.94783185]]\n"
          ],
          "name": "stdout"
        }
      ]
    },
    {
      "cell_type": "markdown",
      "metadata": {
        "id": "wQKVQ13jGkIH",
        "colab_type": "text"
      },
      "source": [
        "Compute the partial derivatives:\n",
        "\n",
        "\\begin{align}\n",
        "\\frac{d\\mathbf{f}}{d\\mathbf{z}} ; \\frac{\\partial\\mathbf{z}}{\\partial\\mathbf{x}} ; \\frac{\\partial\\mathbf{z}}{\\partial\\mathbf{b}} ; \\frac{\\partial\\mathbf{z}}{\\partial\\mathbf{A}}\n",
        "\\end{align}"
      ]
    },
    {
      "cell_type": "code",
      "metadata": {
        "id": "sJF9p5lHE4Z_",
        "colab_type": "code",
        "outputId": "39aa5f33-2a1e-4749-e894-53b10990125e",
        "colab": {
          "base_uri": "https://localhost:8080/",
          "height": 425
        }
      },
      "source": [
        "# partial derivatives\n",
        "dfdz = 1-f**2       # (derivative of tanh is 1-tanh^2)\n",
        "print('df/dz =', dfdz, '\\nshape:', dfdz.shape)\n",
        "print()\n",
        "\n",
        "dzdx = A\n",
        "print('dz/dx =\\n', dzdx, '\\n\\nshape:', dzdx.shape)\n",
        "print()\n",
        "\n",
        "dzdb = np.eye(M)\n",
        "print('dz/db =\\n', dzdb, '\\n\\nshape:', dzdb.shape)\n",
        "print()\n",
        "\n",
        "dzdA = np.zeros((M, M, N))  # Start with a tensor of zeros of the correct shape\n",
        "for i in range(M):          # Then set the diagonal elements of dzdA\n",
        "  dzdA[i,i,:] = x.T  \n",
        "\n",
        "print('dz/dA =\\n', dzdA, '\\n\\nshape:', dzdA.shape)\n",
        "\n"
      ],
      "execution_count": 9,
      "outputs": [
        {
          "output_type": "stream",
          "text": [
            "df/dz = [[0.12041293]\n",
            " [0.10161478]] \n",
            "shape: (2, 1)\n",
            "\n",
            "dz/dx =\n",
            " [[ 1.1 -2.5  0.3]\n",
            " [-2.1  0.2 -1.1]] \n",
            "\n",
            "shape: (2, 3)\n",
            "\n",
            "dz/db =\n",
            " [[1. 0.]\n",
            " [0. 1.]] \n",
            "\n",
            "shape: (2, 2)\n",
            "\n",
            "dz/dA =\n",
            " [[[-1.   0.1  2.1]\n",
            "  [ 0.   0.   0. ]]\n",
            "\n",
            " [[ 0.   0.   0. ]\n",
            "  [-1.   0.1  2.1]]] \n",
            "\n",
            "shape: (2, 2, 3)\n"
          ],
          "name": "stdout"
        }
      ]
    },
    {
      "cell_type": "markdown",
      "metadata": {
        "id": "Gcw6bNirweZl",
        "colab_type": "text"
      },
      "source": [
        "Finally, we compute the gradients of the neural network output $f$ with respect to the parameters $A$ and $\\mathbf{b}$ and the input $\\mathbf{x}$ using the chain rule:\n",
        "\n",
        "\\begin{align}\n",
        "\\frac{\\partial \\mathbf{f}}{\\partial \\mathbf{x}} &= \\frac{d \\mathbf{f}}{d \\mathbf{z}} \\frac{\\partial \\mathbf{z}}{\\partial \\mathbf{x}} \\ ; \\ \n",
        "\\frac{\\partial \\mathbf{f}}{\\partial \\mathbf{b}} = \\frac{d \\mathbf{f}}{d \\mathbf{z}} \\frac{\\partial \\mathbf{z}}{\\partial \\mathbf{b}} \\ ; \\ \n",
        "\\frac{\\partial \\mathbf{f}}{\\partial A} = \\frac{d \\mathbf{f}}{d \\mathbf{z}} \\frac{\\partial \\mathbf{z}}{\\partial A} \n",
        "\\end{align}"
      ]
    },
    {
      "cell_type": "code",
      "metadata": {
        "id": "o22q4uljzbpR",
        "colab_type": "code",
        "outputId": "0e46008f-6cbf-475c-e1b6-6ff0ba64f4c1",
        "colab": {
          "base_uri": "https://localhost:8080/",
          "height": 357
        }
      },
      "source": [
        "dfdx = np.einsum('il, lj', dfdz, dzdx)\n",
        "print('df/dx =\\n', dfdx, '\\n\\nshape:', dfdx.shape)\n",
        "print()\n",
        "\n",
        "dfdb = np.einsum('il, lj', dfdz, dzdb)\n",
        "print('df/db =\\n', dfdb, '\\n\\nshape:', dfdb.shape)\n",
        "print()\n",
        "\n",
        "dfdA = np.einsum('il, ljk', dfdz, dzdA)\n",
        "print('df/dA =\\n', dfdA, '\\n\\nshape:', dfdA.shape)"
      ],
      "execution_count": 10,
      "outputs": [
        {
          "output_type": "stream",
          "text": [
            "df/dx =\n",
            " [[-0.12041293 -0.27694975 -0.09633035]\n",
            " [-0.10161478 -0.233714   -0.08129183]] \n",
            "\n",
            "shape: (2, 3)\n",
            "\n",
            "df/db =\n",
            " [[0.12041293 0.12041293]\n",
            " [0.10161478 0.10161478]] \n",
            "\n",
            "shape: (2, 2)\n",
            "\n",
            "df/dA =\n",
            " [[[-0.12041293  0.01204129  0.25286716]\n",
            "  [-0.12041293  0.01204129  0.25286716]]\n",
            "\n",
            " [[-0.10161478  0.01016148  0.21339105]\n",
            "  [-0.10161478  0.01016148  0.21339105]]] \n",
            "\n",
            "shape: (2, 2, 3)\n"
          ],
          "name": "stdout"
        }
      ]
    }
  ]
}